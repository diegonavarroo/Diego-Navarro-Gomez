{
  "nbformat": 4,
  "nbformat_minor": 0,
  "metadata": {
    "colab": {
      "provenance": [],
      "authorship_tag": "ABX9TyOiaIdAaJBM40L6U74uopbx",
      "include_colab_link": true
    },
    "kernelspec": {
      "name": "python3",
      "display_name": "Python 3"
    },
    "language_info": {
      "name": "python"
    }
  },
  "cells": [
    {
      "cell_type": "markdown",
      "metadata": {
        "id": "view-in-github",
        "colab_type": "text"
      },
      "source": [
        "<a href=\"https://colab.research.google.com/github/diegonavarroo/Diego-Navarro-Gomez/blob/main/Proyecto_1_Algoritmo_Pagerank.ipynb\" target=\"_parent\"><img src=\"https://colab.research.google.com/assets/colab-badge.svg\" alt=\"Open In Colab\"/></a>"
      ]
    },
    {
      "cell_type": "markdown",
      "source": [
        "DIEGO NAVARRO GOMEZ 424099905\n"
      ],
      "metadata": {
        "id": "5WVX4YJGprnS"
      }
    },
    {
      "cell_type": "markdown",
      "source": [
        "PREGUNTA 1\n"
      ],
      "metadata": {
        "id": "xZ7PXFr9pFlu"
      }
    },
    {
      "source": [
        "import numpy as np\n",
        "from google.colab import drive\n",
        "import pandas as pd\n",
        "\n",
        "# Montar Google Drive\n",
        "drive.mount('/content/drive')\n",
        "\n",
        "class Grafica():\n",
        "  \"\"\"Matriz de adyacencia\"\"\"\n",
        "  def __init__(self, nodos, arcos):\n",
        "    \"\"\"Descripción del constructor\"\"\"\n",
        "    self.matriz = np.zeros((len(nodos),len(nodos)))\n",
        "    for x in arcos:\n",
        "      self.matriz[x[0],x[1]] = 1\n",
        "\n",
        "\n",
        "  def __str__(self):\n",
        "    return str(self.matriz)\n",
        "\n",
        "\n",
        "def construccion_pd(nombre_del_archivo):\n",
        "\n",
        "  # Accede al archivo de Excel\n",
        "  df = pd.read_excel(\"/content/drive/MyDrive/Web.xlsx\")\n",
        "  Nodos = (list(range(len(df[\"Index\"]))))\n",
        "  x = list(df[\"Cited by\"])\n",
        "  Arcos = []\n",
        "  for i in range(len(x)):\n",
        "    for j in x[i].split(','):\n",
        "      Arcos.append((int(j) - 1,i))\n",
        "  return Grafica(Nodos, Arcos)\n",
        "\n",
        "# Obtiene la matriz de adyacencia\n",
        "matrix = construccion_pd(\"Web.xlsx\").matriz\n",
        "\n",
        "#Aqui normalizamos cada fila de la matriz para que los valores esten entre el 0 y 1\n",
        "for i in range(len(matrix)):\n",
        "  matrix[i, :] = matrix[i, :]/matrix[i, :].sum()\n",
        "\n",
        "\n",
        "# Vector de PageRank inicial\n",
        "pi = np.ones((1, len(matrix))) / len(matrix)\n",
        "pi_1 = pi @ matrix\n",
        "\n",
        "# Iterar hasta que la diferencia entre pi y pi_1 sea menor a 1e-6\n",
        "while np.linalg.norm(pi - pi_1) > 1e-6:\n",
        "    pi = pi_1\n",
        "    pi_1 = pi @ matrix\n",
        "\n",
        "# Imprime el vector final de PageRank\n",
        "print(\"Vector de PageRank π:\", pi_1)"
      ],
      "cell_type": "code",
      "metadata": {
        "colab": {
          "base_uri": "https://localhost:8080/"
        },
        "id": "87lKbyM7OVQB",
        "outputId": "624189ca-6726-4659-addc-de8876a7eb93"
      },
      "execution_count": 2,
      "outputs": [
        {
          "output_type": "stream",
          "name": "stdout",
          "text": [
            "Mounted at /content/drive\n",
            "Vector de PageRank π: [[6.80287478e-07 9.44047079e-07 5.87562891e-07 1.26244154e-06\n",
            "  4.96032355e-07 7.61311970e-07 1.27097374e-06 7.73618626e-07\n",
            "  1.02201721e-06 8.91209680e-07 4.68015894e-07 4.86143523e-07\n",
            "  6.99637988e-07 7.02884883e-07 9.02997389e-07 3.60576923e-02\n",
            "  3.60576923e-02 3.60576923e-02 3.60576923e-02 4.80769231e-02\n",
            "  3.60576923e-02 3.60576923e-02 3.60576923e-02 4.80769231e-02\n",
            "  3.60576923e-02 6.15372666e-01]]\n"
          ]
        }
      ]
    },
    {
      "cell_type": "markdown",
      "source": [
        "PREGUNTA 2\n"
      ],
      "metadata": {
        "id": "phVin_sdfu23"
      }
    },
    {
      "source": [
        "import numpy as np\n",
        "from google.colab import drive\n",
        "import pandas as pd\n",
        "\n",
        "# Montar Google Drive\n",
        "drive.mount('/content/drive')\n",
        "\n",
        "class Grafica():\n",
        "  \"\"\"Matriz de adyacencia\"\"\"\n",
        "  def __init__(self, nodos, arcos):\n",
        "    \"\"\"Descripción del constructor\"\"\"\n",
        "    self.matriz = np.zeros((len(nodos),len(nodos)))\n",
        "    for x in arcos:\n",
        "      self.matriz[x[0],x[1]] = 1\n",
        "\n",
        "\n",
        "  def __str__(self):\n",
        "    return str(self.matriz)\n",
        "\n",
        "\n",
        "def construccion_pd(nombre_del_archivo):\n",
        "\n",
        "  # Accede al archivo de Excel\n",
        "  df = pd.read_excel(\"/content/drive/MyDrive/Web.xlsx\")\n",
        "  websites = list(df[\"Website\"])  # Nombres de las páginas\n",
        "  Nodos = (list(range(len(df[\"Index\"]))))\n",
        "  x = list(df[\"Cited by\"])\n",
        "  Arcos = []\n",
        "  for i in range(len(x)):\n",
        "    for j in x[i].split(','):\n",
        "      Arcos.append((int(j) - 1,i))\n",
        "  return Grafica(Nodos, Arcos), websites  # Devuelve la gráfica y la lista de páginas\n",
        "\n",
        "\n",
        "# Llama a la función para construir el grafo y obtiene la matriz de adyacencia y la lista de nombres de las páginas\n",
        "m_adyacencia, web_pages = construccion_pd(\"Web.xlsx\")\n",
        "\n",
        "# Extrae solo la matriz de adyacencia del objeto (m_adyacencia)\n",
        "matrix = m_adyacencia.matriz\n",
        "\n",
        "\n",
        "#Aqui normalizamos cada fila de la matriz para que los valores esten entre el 0 y 1\n",
        "for i in range(len(matrix)):\n",
        "  matrix[i, :] = matrix[i, :]/matrix[i, :].sum()\n",
        "\n",
        "\n",
        "# Definir el vector inicial para las páginas con terminación \".ru\"\n",
        "s = sum([1 for page in web_pages if page.endswith('.ru')])  # Número de páginas con \".ru\"\n",
        "pi = np.zeros((1, len(matrix)))  # Vector inicial con ceros\n",
        "\n",
        "\n",
        "# Asignar 1/s a cada página con terminación \".ru\"\n",
        "for k, page in enumerate(web_pages):\n",
        "    if page.endswith('.ru'):\n",
        "        pi[0, k] = 1 / s\n",
        "\n",
        "pi_1 = pi @ matrix\n",
        "\n",
        "# Iterar hasta que la diferencia entre pi y pi_1 sea menor a 1e-6\n",
        "while np.linalg.norm(pi - pi_1) > 1e-6:\n",
        "    pi = pi_1\n",
        "    pi_1 = pi @ matrix\n",
        "\n",
        "print(\"Vector de PageRank π:\", pi_1)"
      ],
      "cell_type": "code",
      "metadata": {
        "colab": {
          "base_uri": "https://localhost:8080/"
        },
        "outputId": "ced497e6-c603-4efa-af5b-3c9234f8e0fb",
        "id": "_dmgb6reENK5"
      },
      "execution_count": 5,
      "outputs": [
        {
          "output_type": "stream",
          "name": "stdout",
          "text": [
            "Drive already mounted at /content/drive; to attempt to forcibly remount, call drive.mount(\"/content/drive\", force_remount=True).\n",
            "Vector de PageRank π: [[0.         0.         0.         0.         0.         0.\n",
            "  0.         0.         0.         0.         0.         0.\n",
            "  0.         0.         0.         0.09375007 0.09375    0.09374982\n",
            "  0.09375018 0.12499973 0.09375018 0.09375001 0.09375008 0.12500005\n",
            "  0.09374989 0.        ]]\n"
          ]
        }
      ]
    },
    {
      "cell_type": "markdown",
      "source": [
        "PREGUNTA 3"
      ],
      "metadata": {
        "id": "ijp8A4ij-tp7"
      }
    },
    {
      "cell_type": "code",
      "source": [
        "import numpy as np\n",
        "from google.colab import drive\n",
        "import pandas as pd\n",
        "\n",
        "# Montar Google Drive\n",
        "drive.mount('/content/drive')\n",
        "\n",
        "class Grafica():\n",
        "  \"\"\"Matriz de adyacencia\"\"\"\n",
        "  def __init__(self, nodos, arcos):\n",
        "    \"\"\"Descripción del constructor\"\"\"\n",
        "    self.matriz = np.zeros((len(nodos),len(nodos)))\n",
        "    for x in arcos:\n",
        "      self.matriz[x[0],x[1]] = 1\n",
        "\n",
        "\n",
        "  def __str__(self):\n",
        "    return str(self.matriz)\n",
        "\n",
        "\n",
        "def construccion_pd(nombre_del_archivo):\n",
        "\n",
        "  # Accede al archivo de Excel\n",
        "  df = pd.read_excel(\"/content/drive/MyDrive/Web.xlsx\")\n",
        "  websites = list(df[\"Website\"])  # Nombres de las páginas\n",
        "  Nodos = (list(range(len(df[\"Index\"]))))\n",
        "  x = list(df[\"Cited by\"])\n",
        "  Arcos = []\n",
        "  for i in range(len(x)):\n",
        "    for j in x[i].split(','):\n",
        "      Arcos.append((int(j) - 1,i))\n",
        "  return Grafica(Nodos, Arcos), websites  # Devuelve la gráfica y la lista de páginas\n",
        "\n",
        "\n",
        "# Llama a la función para construir el grafo y obtiene la matriz de adyacencia y la lista de nombres de las páginas\n",
        "m_adyacencia, web_pages = construccion_pd(\"Web.xlsx\")\n",
        "\n",
        "# Extrae solo la matriz de adyacencia del objeto (m_adyacencia)\n",
        "matrix = m_adyacencia.matriz\n",
        "\n",
        "\n",
        "#Aqui normalizamos cada fila de la matriz para que los valores esten entre el 0 y 1\n",
        "for i in range(len(matrix)):\n",
        "  matrix[i, :] = matrix[i, :]/matrix[i, :].sum()\n",
        "\n",
        "# Definir la matriz U con todas sus entradas iguales a 1/n\n",
        "n = len(matrix)\n",
        "U = np.ones((n, n)) / n\n",
        "\n",
        "# Función para calcular PageRank con diferentes valores de d\n",
        "def calcular_pagerank(matrix, U, d, tol=1e-6):\n",
        "    # Vector inicial uniforme\n",
        "    pi = np.ones((1, n)) / n\n",
        "    pi_1 = pi @ (d * matrix + (1 - d) * U)\n",
        "\n",
        "    # Iterar hasta que la diferencia entre pi y pi_1 sea menor que tol\n",
        "    while np.linalg.norm(pi - pi_1) > tol:\n",
        "        pi = pi_1\n",
        "        pi_1 = pi @ (d * matrix + (1 - d) * U)\n",
        "\n",
        "    return pi_1\n",
        "\n",
        "# Probar con diferentes valores de d\n",
        "valores_d = [0.5, 0.85, 1.0]\n",
        "resultados = {}\n",
        "\n",
        "for d in valores_d:\n",
        "    resultados[d] = calcular_pagerank(matrix, U, d)\n",
        "    print(f\"Vector de PageRank para d={d}:\\n{resultados[d]}\\n\")\n",
        "\n",
        "# Analizar los resultados para determinar el mejor valor de d"
      ],
      "metadata": {
        "colab": {
          "base_uri": "https://localhost:8080/"
        },
        "outputId": "41164373-fe04-4d2e-c51b-f3c15085aa9a",
        "id": "QzRadjWsr2mo"
      },
      "execution_count": 7,
      "outputs": [
        {
          "output_type": "stream",
          "name": "stdout",
          "text": [
            "Drive already mounted at /content/drive; to attempt to forcibly remount, call drive.mount(\"/content/drive\", force_remount=True).\n",
            "Vector de PageRank para d=0.5:\n",
            "[[0.03276547 0.03755848 0.03342873 0.04702049 0.03173841 0.03527266\n",
            "  0.04338466 0.03600766 0.03953766 0.03503239 0.02989038 0.03074746\n",
            "  0.03496689 0.03363199 0.04040183 0.0371988  0.03783815 0.03708623\n",
            "  0.03722273 0.04384511 0.03722273 0.03705013 0.0363509  0.04385451\n",
            "  0.03694609 0.07399947]]\n",
            "\n",
            "Vector de PageRank para d=0.85:\n",
            "[[0.02375513 0.03083672 0.02284082 0.04115192 0.02072413 0.0268213\n",
            "  0.03861167 0.02747861 0.03307002 0.02855825 0.0191024  0.01997684\n",
            "  0.02556449 0.02504934 0.03183429 0.03643144 0.03676753 0.03632114\n",
            "  0.03648717 0.04684119 0.03648717 0.03626792 0.03593937 0.04688206\n",
            "  0.0361904  0.2000087 ]]\n",
            "\n",
            "Vector de PageRank para d=1.0:\n",
            "[[6.80287478e-07 9.44047079e-07 5.87562891e-07 1.26244154e-06\n",
            "  4.96032355e-07 7.61311970e-07 1.27097374e-06 7.73618626e-07\n",
            "  1.02201721e-06 8.91209680e-07 4.68015894e-07 4.86143523e-07\n",
            "  6.99637988e-07 7.02884883e-07 9.02997389e-07 3.60576923e-02\n",
            "  3.60576923e-02 3.60576923e-02 3.60576923e-02 4.80769231e-02\n",
            "  3.60576923e-02 3.60576923e-02 3.60576923e-02 4.80769231e-02\n",
            "  3.60576923e-02 6.15372666e-01]]\n",
            "\n"
          ]
        }
      ]
    }
  ]
}